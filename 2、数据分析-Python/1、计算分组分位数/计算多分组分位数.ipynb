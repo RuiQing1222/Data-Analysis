{
 "cells": [
  {
   "cell_type": "code",
   "execution_count": 2,
   "id": "bcf175bb",
   "metadata": {},
   "outputs": [
    {
     "name": "stdout",
     "output_type": "stream",
     "text": [
      "             Event Name        P10        P20        P30        P40  \\\n",
      "0     game_end_100_jili  19.659222  23.184556  30.485333  48.165389   \n",
      "1     game_end_150_jili  25.343389  32.547444  45.472833  52.284167   \n",
      "2      game_end_15_jili   1.027056   1.483889   2.273944   3.292333   \n",
      "3     game_end_200_jili  27.437083  40.031111  56.080694  66.784722   \n",
      "4      game_end_30_jili   2.843167   5.169722   8.399944  16.587722   \n",
      "5      game_end_50_jili   7.493889  15.366944  21.253333  24.239444   \n",
      "6       game_end_5_jili   0.246056   0.324278   0.392833   0.479444   \n",
      "7   topsocre_10000_jili   0.106417   0.122944   0.160000   0.240056   \n",
      "8   topsocre_20000_jili   0.160139   0.694444   1.793056   5.182222   \n",
      "9    topsocre_4000_jili   0.071833   0.093389   0.105389   0.115000   \n",
      "10   topsocre_6000_jili   0.096944   0.105167   0.114111   0.145667   \n",
      "\n",
      "          P50        P60         P70         P80         P90  \n",
      "0   56.986667  76.302333   90.923611  113.778222  142.797222  \n",
      "1   73.232778  79.826111   94.098444  117.840056  141.986667  \n",
      "2    5.964444  12.704389   21.519167   32.843944   68.336333  \n",
      "3   76.323611  96.383333  104.696806  124.980556  153.523889  \n",
      "4   21.890556  26.955333   39.459056   54.570278   81.761667  \n",
      "5   31.131389  45.725278   58.103333   77.162778  119.168056  \n",
      "6    0.615556   0.942222    1.885556    7.807833   24.468833  \n",
      "7    0.400278   0.635889    1.609139    7.377222   33.407639  \n",
      "8   12.513056  21.592222   43.667639   72.665278  136.698611  \n",
      "9    0.135000   0.180278    0.307667    0.651222    9.375778  \n",
      "10   0.198750   0.280722    0.457306    1.487889   22.383222  \n"
     ]
    }
   ],
   "source": [
    "import pandas as pd\n",
    "import numpy as np\n",
    "\n",
    "# 1、读数据\n",
    "df = pd.read_excel(r'data.xlsx')\n",
    "\n",
    "# 2. 定义分位数计算函数，处理数据点不足的情况\n",
    "def calculate_percentiles(x):\n",
    "    percentiles = [0.1, 0.2, 0.3, 0.4, 0.5, 0.6, 0.7, 0.8, 0.9]  # 10% 到 90%\n",
    "    # 如果数据点少于 2 个，直接返回每个分位数为该值\n",
    "    if len(x) < 2:\n",
    "        return pd.Series([x.iloc[0]] * len(percentiles), index=[f'P{int(p*100)}' for p in percentiles])\n",
    "    # 否则正常计算分位数\n",
    "    return pd.Series(\n",
    "        np.percentile(x, [p * 100 for p in percentiles]),\n",
    "        index=[f'P{int(p*100)}' for p in percentiles]\n",
    "    )\n",
    "\n",
    "# 3. 按 Event Name 分组并计算分位数\n",
    "result = df.groupby('Event Name')['时间差'].apply(calculate_percentiles).unstack()\n",
    "\n",
    "# 4. 重置索引并格式化输出\n",
    "result = result.reset_index()\n",
    "\n",
    "# 5. 打印结果\n",
    "print(result)\n",
    "\n",
    "# 6. 可选：保存结果到 Excel\n",
    "result.to_excel('percentiles_by_event_name.xlsx', index=False)"
   ]
  }
 ],
 "metadata": {
  "kernelspec": {
   "display_name": "Python 3 (ipykernel)",
   "language": "python",
   "name": "python3"
  },
  "language_info": {
   "codemirror_mode": {
    "name": "ipython",
    "version": 3
   },
   "file_extension": ".py",
   "mimetype": "text/x-python",
   "name": "python",
   "nbconvert_exporter": "python",
   "pygments_lexer": "ipython3",
   "version": "3.7.4"
  }
 },
 "nbformat": 4,
 "nbformat_minor": 5
}
