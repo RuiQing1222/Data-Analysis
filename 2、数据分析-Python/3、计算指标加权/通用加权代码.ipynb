{
 "cells": [
  {
   "cell_type": "code",
   "execution_count": 1,
   "metadata": {},
   "outputs": [],
   "source": [
    "import pandas as pd\n",
    "import numpy as np\n",
    "import xlsxwriter \n",
    "from datetime import datetime"
   ]
  },
  {
   "cell_type": "markdown",
   "metadata": {},
   "source": [
    "### 1、读数据"
   ]
  },
  {
   "cell_type": "code",
   "execution_count": 2,
   "metadata": {},
   "outputs": [
    {
     "data": {
      "text/html": [
       "<div>\n",
       "<style scoped>\n",
       "    .dataframe tbody tr th:only-of-type {\n",
       "        vertical-align: middle;\n",
       "    }\n",
       "\n",
       "    .dataframe tbody tr th {\n",
       "        vertical-align: top;\n",
       "    }\n",
       "\n",
       "    .dataframe thead th {\n",
       "        text-align: right;\n",
       "    }\n",
       "</style>\n",
       "<table border=\"1\" class=\"dataframe\">\n",
       "  <thead>\n",
       "    <tr style=\"text-align: right;\">\n",
       "      <th></th>\n",
       "      <th>日期</th>\n",
       "      <th>注册设备</th>\n",
       "      <th>LTV1</th>\n",
       "      <th>LTV2</th>\n",
       "      <th>LTV3</th>\n",
       "      <th>LTV4</th>\n",
       "      <th>LTV5</th>\n",
       "      <th>LTV6</th>\n",
       "      <th>LTV7</th>\n",
       "      <th>LTV8</th>\n",
       "      <th>...</th>\n",
       "      <th>LTV14</th>\n",
       "      <th>LTV15</th>\n",
       "      <th>LTV16</th>\n",
       "      <th>LTV17</th>\n",
       "      <th>LTV18</th>\n",
       "      <th>LTV19</th>\n",
       "      <th>LTV20</th>\n",
       "      <th>LTV21</th>\n",
       "      <th>LTV22</th>\n",
       "      <th>LTV23</th>\n",
       "    </tr>\n",
       "  </thead>\n",
       "  <tbody>\n",
       "    <tr>\n",
       "      <th>0</th>\n",
       "      <td>20250303(一)</td>\n",
       "      <td>156</td>\n",
       "      <td>0.011523</td>\n",
       "      <td>0.016042</td>\n",
       "      <td>0.019171</td>\n",
       "      <td>0.022797</td>\n",
       "      <td>0.025976</td>\n",
       "      <td>0.027962</td>\n",
       "      <td>0.029949</td>\n",
       "      <td>0.031836</td>\n",
       "      <td>...</td>\n",
       "      <td>0.043260</td>\n",
       "      <td>0.045693</td>\n",
       "      <td>0.047829</td>\n",
       "      <td>0.048971</td>\n",
       "      <td>0.050114</td>\n",
       "      <td>0.052249</td>\n",
       "      <td>0.052547</td>\n",
       "      <td>0.053342</td>\n",
       "      <td>0.054633</td>\n",
       "      <td>0.055527</td>\n",
       "    </tr>\n",
       "    <tr>\n",
       "      <th>1</th>\n",
       "      <td>20250304(二)</td>\n",
       "      <td>12442</td>\n",
       "      <td>0.002829</td>\n",
       "      <td>0.003920</td>\n",
       "      <td>0.004647</td>\n",
       "      <td>0.005167</td>\n",
       "      <td>0.005590</td>\n",
       "      <td>0.006002</td>\n",
       "      <td>0.006317</td>\n",
       "      <td>0.006592</td>\n",
       "      <td>...</td>\n",
       "      <td>0.007761</td>\n",
       "      <td>0.007889</td>\n",
       "      <td>0.008046</td>\n",
       "      <td>0.008203</td>\n",
       "      <td>0.008331</td>\n",
       "      <td>0.008517</td>\n",
       "      <td>0.008724</td>\n",
       "      <td>0.008861</td>\n",
       "      <td>0.009018</td>\n",
       "      <td>0.009175</td>\n",
       "    </tr>\n",
       "    <tr>\n",
       "      <th>2</th>\n",
       "      <td>20250305(三)</td>\n",
       "      <td>55900</td>\n",
       "      <td>0.002920</td>\n",
       "      <td>0.004045</td>\n",
       "      <td>0.004666</td>\n",
       "      <td>0.005121</td>\n",
       "      <td>0.005493</td>\n",
       "      <td>0.005741</td>\n",
       "      <td>0.005973</td>\n",
       "      <td>0.006171</td>\n",
       "      <td>...</td>\n",
       "      <td>0.007065</td>\n",
       "      <td>0.007172</td>\n",
       "      <td>0.007288</td>\n",
       "      <td>0.007412</td>\n",
       "      <td>0.007536</td>\n",
       "      <td>0.007668</td>\n",
       "      <td>0.007768</td>\n",
       "      <td>0.007867</td>\n",
       "      <td>0.007975</td>\n",
       "      <td>0.008057</td>\n",
       "    </tr>\n",
       "    <tr>\n",
       "      <th>3</th>\n",
       "      <td>20250306(四)</td>\n",
       "      <td>87133</td>\n",
       "      <td>0.002954</td>\n",
       "      <td>0.003789</td>\n",
       "      <td>0.004289</td>\n",
       "      <td>0.004617</td>\n",
       "      <td>0.004895</td>\n",
       "      <td>0.005118</td>\n",
       "      <td>0.005297</td>\n",
       "      <td>0.005464</td>\n",
       "      <td>...</td>\n",
       "      <td>0.006162</td>\n",
       "      <td>0.006255</td>\n",
       "      <td>0.006366</td>\n",
       "      <td>0.006478</td>\n",
       "      <td>0.006570</td>\n",
       "      <td>0.006663</td>\n",
       "      <td>0.006768</td>\n",
       "      <td>0.006855</td>\n",
       "      <td>0.006941</td>\n",
       "      <td>0.007028</td>\n",
       "    </tr>\n",
       "    <tr>\n",
       "      <th>4</th>\n",
       "      <td>20250307(五)</td>\n",
       "      <td>111744</td>\n",
       "      <td>0.002968</td>\n",
       "      <td>0.003859</td>\n",
       "      <td>0.004325</td>\n",
       "      <td>0.004639</td>\n",
       "      <td>0.004903</td>\n",
       "      <td>0.005124</td>\n",
       "      <td>0.005321</td>\n",
       "      <td>0.005493</td>\n",
       "      <td>...</td>\n",
       "      <td>0.006212</td>\n",
       "      <td>0.006322</td>\n",
       "      <td>0.006427</td>\n",
       "      <td>0.006543</td>\n",
       "      <td>0.006636</td>\n",
       "      <td>0.006728</td>\n",
       "      <td>0.006820</td>\n",
       "      <td>0.006906</td>\n",
       "      <td>0.006992</td>\n",
       "      <td>0.007078</td>\n",
       "    </tr>\n",
       "  </tbody>\n",
       "</table>\n",
       "<p>5 rows × 25 columns</p>\n",
       "</div>"
      ],
      "text/plain": [
       "            日期    注册设备      LTV1      LTV2      LTV3      LTV4      LTV5  \\\n",
       "0  20250303(一)     156  0.011523  0.016042  0.019171  0.022797  0.025976   \n",
       "1  20250304(二)   12442  0.002829  0.003920  0.004647  0.005167  0.005590   \n",
       "2  20250305(三)   55900  0.002920  0.004045  0.004666  0.005121  0.005493   \n",
       "3  20250306(四)   87133  0.002954  0.003789  0.004289  0.004617  0.004895   \n",
       "4  20250307(五)  111744  0.002968  0.003859  0.004325  0.004639  0.004903   \n",
       "\n",
       "       LTV6      LTV7      LTV8  ...     LTV14     LTV15     LTV16     LTV17  \\\n",
       "0  0.027962  0.029949  0.031836  ...  0.043260  0.045693  0.047829  0.048971   \n",
       "1  0.006002  0.006317  0.006592  ...  0.007761  0.007889  0.008046  0.008203   \n",
       "2  0.005741  0.005973  0.006171  ...  0.007065  0.007172  0.007288  0.007412   \n",
       "3  0.005118  0.005297  0.005464  ...  0.006162  0.006255  0.006366  0.006478   \n",
       "4  0.005124  0.005321  0.005493  ...  0.006212  0.006322  0.006427  0.006543   \n",
       "\n",
       "      LTV18     LTV19     LTV20     LTV21     LTV22     LTV23  \n",
       "0  0.050114  0.052249  0.052547  0.053342  0.054633  0.055527  \n",
       "1  0.008331  0.008517  0.008724  0.008861  0.009018  0.009175  \n",
       "2  0.007536  0.007668  0.007768  0.007867  0.007975  0.008057  \n",
       "3  0.006570  0.006663  0.006768  0.006855  0.006941  0.007028  \n",
       "4  0.006636  0.006728  0.006820  0.006906  0.006992  0.007078  \n",
       "\n",
       "[5 rows x 25 columns]"
      ]
     },
     "execution_count": 2,
     "metadata": {},
     "output_type": "execute_result"
    }
   ],
   "source": [
    "df=pd.read_excel(r'留存率.xlsx')\n",
    "df.head(5)           "
   ]
  },
  {
   "cell_type": "markdown",
   "metadata": {},
   "source": [
    "### 2、数据处理-删除不相关列"
   ]
  },
  {
   "cell_type": "code",
   "execution_count": 3,
   "metadata": {},
   "outputs": [],
   "source": [
    "# 删除指定列（Cohort Day,Ltv Country），并删除全是缺失值的整列\n",
    "data=df.drop(columns=[\"日期\"]).dropna(axis=1,how=\"all\") "
   ]
  },
  {
   "cell_type": "markdown",
   "metadata": {},
   "source": [
    "### 3、计算加权"
   ]
  },
  {
   "cell_type": "code",
   "execution_count": 4,
   "metadata": {},
   "outputs": [],
   "source": [
    "# 计算每列缺失值的数量，并显示结果.\n",
    "na = data.isnull().sum()\n",
    "\n",
    "# 定义每日留存率函数：weighted，等于每一天的留存人数之和/第一天的登录人数之和，并使结果输出百分号，保留两位小数位\n",
    "def weighted(i):\n",
    "    weighted = sum(data.iloc[:data.shape[0]-na[i+1],i+1])/sum(data.iloc[:data.shape[0]-na[i+1],0])*100\n",
    "    return \"%.2f%%\" % weighted\n",
    "\n",
    "# 定义每日留存率函数：weighted_percent，等于每一天的留存率*第一天的登录人数/第一天的登录人数 SUMPRODUCT函数，并使结果输出百分号，保留两位小数位 \n",
    "def weighted_percent(i):\n",
    "    weighted_percent = np.sum((data.iloc[:data.shape[0]-na[i+1],i+1])*(data.iloc[:data.shape[0]-na[i+1],0])) /sum(data.iloc[:data.shape[0]-na[i+1],0])*100\n",
    "    return \"%.2f%%\" % weighted_percent"
   ]
  },
  {
   "cell_type": "code",
   "execution_count": 5,
   "metadata": {},
   "outputs": [
    {
     "name": "stdout",
     "output_type": "stream",
     "text": [
      "请输入数据格式是什么，例如：数值、百分数数值\n"
     ]
    }
   ],
   "source": [
    "input_x = input(\"请输入数据格式是什么，例如：数值、百分数\")"
   ]
  },
  {
   "cell_type": "code",
   "execution_count": 6,
   "metadata": {},
   "outputs": [],
   "source": [
    "weighted_r=[]\n",
    "if input_x == \"数值\":\n",
    "    for i in range(data.shape[1]-1):\n",
    "        weighted_r.append(weighted(i))\n",
    "elif input_x == \"百分数\":\n",
    "    for i in range(data.shape[1]-1):\n",
    "        weighted_r.append(weighted_percent(i))\n",
    "else:\n",
    "    print(\"请按照提示输入\")"
   ]
  },
  {
   "cell_type": "code",
   "execution_count": 7,
   "metadata": {},
   "outputs": [],
   "source": [
    "# 增加index一个变量，输出第几天留存率    比如，当i=1,则输出的是第2天留存率\n",
    "index = []\n",
    "for i in range(data.shape[1]-1):\n",
    "    index.append(\"第\"+str(i+1)+\"天留存率\")\n",
    "x=index[1]"
   ]
  },
  {
   "cell_type": "code",
   "execution_count": 8,
   "metadata": {},
   "outputs": [],
   "source": [
    "# 输出结果\n",
    "weighted_retention_rate = pd.DataFrame(weighted_r,index=index).T"
   ]
  },
  {
   "cell_type": "markdown",
   "metadata": {},
   "source": [
    "### 4、保存数据结果"
   ]
  },
  {
   "cell_type": "code",
   "execution_count": 9,
   "metadata": {},
   "outputs": [
    {
     "name": "stderr",
     "output_type": "stream",
     "text": [
      "D:\\Anaconda3\\lib\\site-packages\\xlsxwriter\\workbook.py:368: UserWarning: Calling close() on already closed file.\n",
      "  warn(\"Calling close() on already closed file.\")\n"
     ]
    }
   ],
   "source": [
    "# 写入文件\n",
    "df1=weighted_retention_rate.copy()\n",
    "df2=df.copy()\n",
    "writer=pd.ExcelWriter('加权留存率.xlsx')\n",
    "df1.to_excel(writer,sheet_name='Data1',startcol=0,index=False)#将计算好的加权留存率写入加权留存率输出结果1.xlsx表的Data1工作表\n",
    "df2.to_excel(writer,sheet_name='sheet1',startcol=0,index=False)#将原始数据写入加权留存率输出结果1.xlsx表的'sheet1'工作表\n",
    "writer.save()\n",
    "writer.close()"
   ]
  },
  {
   "cell_type": "code",
   "execution_count": null,
   "metadata": {},
   "outputs": [],
   "source": []
  }
 ],
 "metadata": {
  "kernelspec": {
   "display_name": "Python 3 (ipykernel)",
   "language": "python",
   "name": "python3"
  },
  "language_info": {
   "codemirror_mode": {
    "name": "ipython",
    "version": 3
   },
   "file_extension": ".py",
   "mimetype": "text/x-python",
   "name": "python",
   "nbconvert_exporter": "python",
   "pygments_lexer": "ipython3",
   "version": "3.7.4"
  }
 },
 "nbformat": 4,
 "nbformat_minor": 2
}
